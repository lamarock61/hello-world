{
  "nbformat": 4,
  "nbformat_minor": 0,
  "metadata": {
    "colab": {
      "name": "Kraken_bot_ksm_V1.ipynb",
      "provenance": [],
      "collapsed_sections": [],
      "authorship_tag": "ABX9TyMDHUUsdR9h0oYwKZPn011W",
      "include_colab_link": true
    },
    "kernelspec": {
      "name": "python3",
      "display_name": "Python 3"
    },
    "language_info": {
      "name": "python"
    }
  },
  "cells": [
    {
      "cell_type": "markdown",
      "metadata": {
        "id": "view-in-github",
        "colab_type": "text"
      },
      "source": [
        "<a href=\"https://colab.research.google.com/github/lamarock61/hello-world/blob/master/Kraken_bot_ksm_V1.ipynb\" target=\"_parent\"><img src=\"https://colab.research.google.com/assets/colab-badge.svg\" alt=\"Open In Colab\"/></a>"
      ]
    },
    {
      "cell_type": "code",
      "metadata": {
        "id": "WX343AI3OMqk"
      },
      "source": [
        "# pip install SimpleJSON;"
      ],
      "execution_count": 1,
      "outputs": []
    },
    {
      "cell_type": "markdown",
      "metadata": {
        "id": "ne0TJEKfPcaG"
      },
      "source": [
        "Import library"
      ]
    },
    {
      "cell_type": "code",
      "metadata": {
        "id": "gjwqIAdiOXUj"
      },
      "source": [
        "#import\n",
        "import pandas as pd\n",
        "import requests\n",
        "import json\n",
        "import time\n",
        "import os\n",
        "import urllib.parse\n",
        "import hashlib\n",
        "import hmac\n",
        "import base64\n",
        "import json\n",
        "import math\n",
        "\n"
      ],
      "execution_count": 2,
      "outputs": []
    },
    {
      "cell_type": "code",
      "metadata": {
        "colab": {
          "base_uri": "https://localhost:8080/"
        },
        "id": "hdrd3425QW04",
        "outputId": "8da76431-2e75-4ad9-e90c-e45ad93211a1"
      },
      "source": [
        "# initial paremeters\n",
        "min_buy_price = 8.01;\n",
        "amount_to_buy = 1;\n",
        "max_ksm_amount_to_sell = 0.10;\n",
        "max_ksm_amount_to_buy = 0.05;\n",
        "min_ksm_amount_in_folio = 0.01;\n",
        "min_dot_amount_in_folio = 0.01;\n",
        "dot_amount_in_folio = 0.0000;\n",
        "ksm_amount_in_folio = 0.0000;\n",
        "delta = 0.09;\n",
        "max_sell_price = round(min_buy_price*(1+delta),2);\n",
        "trade_fees_percentage = 0.001;\n",
        "print(\"min buy price : \" + str(min_buy_price));\n",
        "print(\"min amount to buy : \" + str(amount_to_buy));\n",
        "print(\"max sell price : \" + str(max_sell_price));\n",
        "print(\"trading fees : \" + str(trade_fees_percentage*100.000) + \"%\");\n",
        "API_key = \"xxx\";\n",
        "Private_key = \"xxx\";"
      ],
      "execution_count": 12,
      "outputs": [
        {
          "output_type": "stream",
          "name": "stdout",
          "text": [
            "min buy price : 8.01\n",
            "min amount to buy : 1\n",
            "max sell price : 8.73\n",
            "trading fees : 0.1%\n"
          ]
        }
      ]
    },
    {
      "cell_type": "code",
      "metadata": {
        "id": "8TqkiPO7ThPa"
      },
      "source": [
        "# dynamic parameters\n",
        "current_ksm_dpt_price = 0;\n",
        "dot_amount_in_folio = 0;\n",
        "ksm_amount_in_folio = 0.2379257;"
      ],
      "execution_count": 13,
      "outputs": []
    },
    {
      "cell_type": "code",
      "metadata": {
        "colab": {
          "base_uri": "https://localhost:8080/"
        },
        "id": "QHfVPxwvWGcm",
        "outputId": "e800d0a4-4036-46c1-d39d-aa2ee4a335e3"
      },
      "source": [
        "## get ksm/dot value from kraken\n",
        "# a = ask\n",
        "# b = bid\n",
        "# c = last trade closed\n",
        "# v = volume\n",
        "# p = volume weighted average price\n",
        "# t = number of trades\n",
        "# l = low\n",
        "# h = high\n",
        "# o = today's opening price\n",
        "\n",
        "resp = requests.get('https://api.kraken.com/0/public/Ticker?pair=KSMDOT')\n",
        "\n",
        "#print(resp.json())\n",
        "\n",
        "\n",
        "jsonResponse_current_ksm_dot_price = resp.json();\n",
        "\n",
        "current_ksm_dot_price = jsonResponse_current_ksm_dot_price[\"result\"][\"KSMDOT\"][\"c\"][0];\n",
        "\n",
        "print(\"current ksm/dot price : \" + current_ksm_dot_price);\n",
        "print(jsonResponse_current_ksm_dot_price);"
      ],
      "execution_count": 14,
      "outputs": [
        {
          "output_type": "stream",
          "name": "stdout",
          "text": [
            "current ksm/dot price : 8.56000\n",
            "{'error': [], 'result': {'KSMDOT': {'a': ['8.58000', '11', '11.000'], 'b': ['8.56000', '9', '9.000'], 'c': ['8.56000', '0.09932962'], 'v': ['1603.02226109', '1666.74682134'], 'p': ['8.77235', '8.77028'], 't': [845, 881], 'l': ['8.36000', '8.36000'], 'h': ['9.07000', '9.07000'], 'o': '8.70000'}}}\n"
          ]
        }
      ]
    },
    {
      "cell_type": "code",
      "metadata": {
        "colab": {
          "base_uri": "https://localhost:8080/"
        },
        "id": "8Wd7AAWPCRNZ",
        "outputId": "2da33351-956f-415c-958c-9c46886f3f7f"
      },
      "source": [
        "print(jsonResponse_current_ksm_dot_price[\"result\"][\"KSMDOT\"]['c'])"
      ],
      "execution_count": 15,
      "outputs": [
        {
          "output_type": "stream",
          "name": "stdout",
          "text": [
            "['8.56000', '0.09932962']\n"
          ]
        }
      ]
    },
    {
      "cell_type": "code",
      "metadata": {
        "id": "KETbjJBxi2Np"
      },
      "source": [
        "# authenticate to kraken\n",
        "\n",
        "def get_kraken_signature(urlpath, data, secret):\n",
        "\n",
        "    postdata = urllib.parse.urlencode(data)\n",
        "    encoded = (str(data['nonce']) + postdata).encode()\n",
        "    message = urlpath.encode() + hashlib.sha256(encoded).digest()\n",
        "\n",
        "    mac = hmac.new(base64.b64decode(secret), message, hashlib.sha512)\n",
        "    sigdigest = base64.b64encode(mac.digest())\n",
        "    return sigdigest.decode()"
      ],
      "execution_count": 16,
      "outputs": []
    },
    {
      "cell_type": "code",
      "metadata": {
        "colab": {
          "base_uri": "https://localhost:8080/"
        },
        "id": "t00IEneZc4Wx",
        "outputId": "5b3cc122-011f-48a2-a434-297c2ecda053"
      },
      "source": [
        "# get ksm & dot amount in folio\n",
        "\n",
        "# Read Kraken API key and secret stored in environment variables\n",
        "api_url = \"https://api.kraken.com\"\n",
        "#api_key = os.environ['API_KEY_KRAKEN']\n",
        "api_key = API_key;\n",
        "#api_sec = os.environ['API_SEC_KRAKEN']\n",
        "api_sec = Private_key\n",
        "\n",
        "# Attaches auth headers and returns results of a POST request\n",
        "def kraken_request(uri_path, data, api_key, api_sec):\n",
        "    headers = {}\n",
        "    headers['API-Key'] = api_key\n",
        "    # get_kraken_signature() as defined in the 'Authentication' section\n",
        "    headers['API-Sign'] = get_kraken_signature(uri_path, data, api_sec)             \n",
        "    req = requests.post((api_url + uri_path), headers=headers, data=data)\n",
        "    return req\n",
        "\n",
        "# Construct the request and print the result\n",
        "resp = kraken_request('/0/private/Balance', {\n",
        "    \"nonce\": str(int(1000*time.time()))\n",
        "}, api_key, api_sec)\n",
        "\n",
        "#print(resp.json())\n",
        "\n",
        "\n",
        "jsonResponse_folio_data = resp.json();\n",
        "\n",
        "try :\n",
        "  dot_amount_in_folio = float(jsonResponse_folio_data[\"result\"][\"DOT\"])\n",
        "except :\n",
        "  dot_amount_in_folio = 0.0000;\n",
        "\n",
        "try :\n",
        "  ksm_amount_in_folio = float(jsonResponse_folio_data[\"result\"][\"KSM\"])\n",
        "except :\n",
        "  ksm_amount_in_folio = 0.0000;\n",
        "\n",
        "print(ksm_amount_in_folio)\n",
        "print(dot_amount_in_folio)\n",
        "\n"
      ],
      "execution_count": 19,
      "outputs": [
        {
          "output_type": "stream",
          "name": "stdout",
          "text": [
            "0.0\n",
            "0.25030934\n"
          ]
        }
      ]
    },
    {
      "cell_type": "code",
      "metadata": {
        "colab": {
          "base_uri": "https://localhost:8080/"
        },
        "id": "RBPYrG1vlZS6",
        "outputId": "86b2d127-15a9-4fa4-ecb7-214750dfa5f9"
      },
      "source": [
        "# get list of open orders\n",
        "resp = kraken_request('/0/private/OpenOrders', {\n",
        "    \"nonce\": str(int(1000*time.time())),\n",
        "    \"trades\": True\n",
        "}, api_key, api_sec)\n",
        "\n",
        "jsonResponse_open_orders = resp.json();\n",
        "\n",
        "# get list of open order keys and count keys\n",
        "list_keys = [];\n",
        "list_keys = list(jsonResponse_open_orders[\"result\"][\"open\"].keys())\n",
        "keys_qty = len(list_keys)\n",
        "print(keys_qty)\n",
        "\n",
        "\n",
        "print(jsonResponse_open_orders[\"result\"][\"open\"]);\n",
        "# print(list(jsonResponse_open_orders[\"result\"][\"open\"].keys()));\n",
        "# print(jsonResponse_open_orders[\"result\"][\"open\"][\"ON66J4-FNUI2-4BXA3R\"][\"descr\"][\"pair\"]);\n",
        "\n",
        "if keys_qty == 0:\n",
        "  sell_orders_qty = 0\n",
        "  buy_orders_qty = 0\n",
        "\n",
        "open_order = jsonResponse_open_orders[\"result\"][\"open\"]\n",
        "for _key in list_keys:\n",
        "  if open_order[_key][\"descr\"][\"pair\"] == \"KSMDOT\" and open_order[_key][\"descr\"][\"type\"] == \"sell\":\n",
        "    sell_orders_qty = 1\n",
        "    # sell order allready exists\n",
        "  else:\n",
        "    sell_orders_qty = 0\n",
        "\n",
        "for _key in list_keys:\n",
        "  if open_order[_key][\"descr\"][\"pair\"] == \"KSMDOT\" and open_order[_key][\"descr\"][\"type\"] == \"buy\":\n",
        "    buy_orders_qty = 1\n",
        "    # buy order already exists\n",
        "  else:\n",
        "    buy_orders_qty = 0\n",
        "\n",
        "# create sell order if needed\n",
        "if sell_orders_qty == 0 and dot_amount_in_folio < min_dot_amount_in_folio:\n",
        "        # place new sell order\n",
        "  print(\"place new sell order\")\n",
        "  resp = kraken_request('/0/private/AddOrder', {\n",
        "      \"nonce\": str(int(1000*time.time())),\n",
        "      \"ordertype\": \"limit\",\n",
        "      \"type\": \"sell\",\n",
        "      \"volume\": min(ksm_amount_in_folio, max_ksm_amount_to_sell),\n",
        "      \"pair\": \"KSMDOT\",\n",
        "      \"price\": max_sell_price\n",
        "  }, api_key, api_sec)\n",
        "\n",
        "  print(resp.json())\n",
        "  print(\"sell order sent\")\n",
        "\n",
        "else:\n",
        "  print(\"no sell opportunity\")\n",
        "\n",
        "# create buy order if needed\n",
        "if buy_orders_qty == 0 and ksm_amount_in_folio < min_ksm_amount_in_folio:\n",
        "  # place new buy order\n",
        "  print(\"place new buy order\")\n",
        "  resp = kraken_request('/0/private/AddOrder', {\n",
        "      \"nonce\": str(int(1000*time.time())),\n",
        "      \"ordertype\": \"limit\",\n",
        "      \"type\": \"buy\",\n",
        "      \"volume\": min(dot_amount_in_folio/min_buy_price, max_ksm_amount_to_buy),\n",
        "      \"pair\": \"KSMDOT\",\n",
        "      \"price\": min_buy_price\n",
        "  }, api_key, api_sec)\n",
        "\n",
        "  print(resp.json())\n",
        "  print(\"buy order sent\")\n",
        "else:\n",
        "  print(\"no buy opportunity\")\n",
        "\n",
        "'''\n",
        "    if dot_amount_in_folio < min_dot_amount_in_folio:\n",
        "      print(\"place new buy order\")\n",
        "      # place new buy order\n",
        "'''\n",
        "#print(jsonResponse_open_orders[\"result\"][\"open\"][_key][\"descr\"])\n",
        "print(\"sell order qty : \" + str(sell_orders_qty))\n",
        "print(\"buy order qty : \" + str(buy_orders_qty))\n",
        "print(dot_amount_in_folio)\n",
        "print(max_ksm_amount_to_sell)\n",
        "print(min_buy_price)"
      ],
      "execution_count": 24,
      "outputs": [
        {
          "output_type": "stream",
          "name": "stdout",
          "text": [
            "0\n",
            "{}\n",
            "no sell opportunity\n",
            "place new buy order\n",
            "{'error': [], 'result': {'txid': ['ODAR4T-5JJWF-36KAXP'], 'descr': {'order': 'buy 0.03124960 KSMDOT @ limit 8.01'}}}\n",
            "buy order sent\n",
            "sell order qty : 0\n",
            "buy order qty : 0\n",
            "0.25030934\n",
            "0.1\n",
            "8.01\n"
          ]
        }
      ]
    }
  ]
}